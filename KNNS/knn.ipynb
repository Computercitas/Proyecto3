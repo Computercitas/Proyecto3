{
 "cells": [
  {
   "cell_type": "code",
   "execution_count": 2,
   "metadata": {},
   "outputs": [],
   "source": [
    "import numpy as np\n",
    "import matplotlib.pyplot as plt\n",
    "import heapq"
   ]
  },
  {
   "cell_type": "code",
   "execution_count": 3,
   "metadata": {},
   "outputs": [],
   "source": [
    "# Métrica de distancia: Euclidiana\n",
    "def euclidean_distance(P, Q):\n",
    "    return np.sqrt(np.sum((P - Q) ** 2))"
   ]
  },
  {
   "cell_type": "code",
   "execution_count": 4,
   "metadata": {},
   "outputs": [],
   "source": [
    "# KNN Secuencial\n",
    "def knn_sequential(data, query, k):\n",
    "    distances = [(euclidean_distance(point, query), idx) for idx, point in enumerate(data)]\n",
    "    distances.sort(key=lambda x: x[0])\n",
    "    return distances[:k]"
   ]
  },
  {
   "cell_type": "code",
   "execution_count": 5,
   "metadata": {},
   "outputs": [],
   "source": [
    "# KNN con Cola de Prioridad\n",
    "def knn_priority_queue(data, query, k):\n",
    "    heap = []\n",
    "    for idx, point in enumerate(data):\n",
    "        distance = euclidean_distance(point, query)\n",
    "        if len(heap) < k:\n",
    "            heapq.heappush(heap, (-distance, idx))\n",
    "        else:\n",
    "            if -heap[0][0] > distance:\n",
    "                heapq.heapreplace(heap, (-distance, idx))\n",
    "    return [(-d, idx) for d, idx in heap]"
   ]
  },
  {
   "cell_type": "code",
   "execution_count": 6,
   "metadata": {},
   "outputs": [],
   "source": [
    "# Búsqueda por Rango\n",
    "def range_search(data, query, radius):\n",
    "    results = []\n",
    "    for idx, point in enumerate(data):\n",
    "        distance = euclidean_distance(point, query)\n",
    "        if distance <= radius:\n",
    "            results.append((distance, idx))\n",
    "    return results"
   ]
  },
  {
   "cell_type": "code",
   "execution_count": 7,
   "metadata": {},
   "outputs": [],
   "source": [
    "# Análisis de distribución de distancias\n",
    "def analyze_distance_distribution(data, query, radii):\n",
    "    distances = [euclidean_distance(point, query) for point in data]\n",
    "    plt.hist(distances, bins=30, alpha=0.7, label=\"Distancias\")\n",
    "    plt.xlabel(\"Distancia\")\n",
    "    plt.ylabel(\"Frecuencia\")\n",
    "    plt.title(\"Distribución de Distancias\")\n",
    "    plt.legend()\n",
    "    plt.show()\n",
    "    \n",
    "    # Experimentos con diferentes radios\n",
    "    for radius in radii:\n",
    "        points_in_radius = range_search(data, query, radius)\n",
    "        print(f\"Radio: {radius}, Puntos encontrados: {len(points_in_radius)}\")"
   ]
  },
  {
   "cell_type": "code",
   "execution_count": 8,
   "metadata": {},
   "outputs": [],
   "source": [
    "# Dataset de ejemplo\n",
    "np.random.seed(42)\n",
    "data = np.random.rand(100, 2) * 10  # 100 puntos aleatorios en un rango de 0-10\n",
    "query_point = np.array([5, 5])  # Punto de consulta\n",
    "k = 10  # Número de vecinos más cercanos\n",
    "radii = [2, 3, 5]  # Valores de radio para experimentos"
   ]
  },
  {
   "cell_type": "code",
   "execution_count": 9,
   "metadata": {},
   "outputs": [
    {
     "name": "stdout",
     "output_type": "stream",
     "text": [
      "KNN Secuencial:\n",
      "[(np.float64(0.7594132967118037), 48), (np.float64(1.0959708228743663), 73), (np.float64(1.3823896584008788), 81), (np.float64(1.8584175663497666), 51), (np.float64(1.870458040229493), 80), (np.float64(1.8935533882465698), 23), (np.float64(1.9370991730785896), 19), (np.float64(1.9731695403252687), 8), (np.float64(1.9914069956001113), 71), (np.float64(2.0388669681071434), 68)]\n"
     ]
    }
   ],
   "source": [
    "# Ejecución de los métodos\n",
    "print(\"KNN Secuencial:\")\n",
    "print(knn_sequential(data, query_point, k))"
   ]
  },
  {
   "cell_type": "code",
   "execution_count": 10,
   "metadata": {},
   "outputs": [
    {
     "name": "stdout",
     "output_type": "stream",
     "text": [
      "\n",
      "KNN con Cola de Prioridad:\n",
      "[(np.float64(2.0388669681071434), 68), (np.float64(1.9914069956001113), 71), (np.float64(1.9370991730785896), 19), (np.float64(1.9731695403252687), 8), (np.float64(1.870458040229493), 80), (np.float64(1.0959708228743663), 73), (np.float64(0.7594132967118037), 48), (np.float64(1.8935533882465698), 23), (np.float64(1.8584175663497666), 51), (np.float64(1.3823896584008788), 81)]\n"
     ]
    }
   ],
   "source": [
    "print(\"\\nKNN con Cola de Prioridad:\")\n",
    "print(knn_priority_queue(data, query_point, k))"
   ]
  },
  {
   "cell_type": "code",
   "execution_count": 11,
   "metadata": {},
   "outputs": [
    {
     "name": "stdout",
     "output_type": "stream",
     "text": [
      "\n",
      "Búsqueda por Rango:\n",
      "Radio 2: [(np.float64(1.9731695403252687), 8), (np.float64(1.9370991730785896), 19), (np.float64(1.8935533882465698), 23), (np.float64(0.7594132967118037), 48), (np.float64(1.8584175663497666), 51), (np.float64(1.9914069956001113), 71), (np.float64(1.0959708228743663), 73), (np.float64(1.870458040229493), 80), (np.float64(1.3823896584008788), 81)]\n",
      "Radio 3: [(np.float64(2.521005464913762), 1), (np.float64(2.3134053520842524), 4), (np.float64(1.9731695403252687), 8), (np.float64(2.1958313320943117), 9), (np.float64(2.4710929577902934), 11), (np.float64(2.8853972905497964), 12), (np.float64(1.9370991730785896), 19), (np.float64(2.908618059981832), 22), (np.float64(1.8935533882465698), 23), (np.float64(2.5431085525713284), 30), (np.float64(2.231874650668454), 32), (np.float64(2.574656357683593), 42), (np.float64(2.6765846718654567), 43), (np.float64(2.678875445482463), 46), (np.float64(2.7103820254163624), 47), (np.float64(0.7594132967118037), 48), (np.float64(1.8584175663497666), 51), (np.float64(2.70809166931783), 53), (np.float64(2.8166034555832353), 62), (np.float64(2.899051765703099), 65), (np.float64(2.0388669681071434), 68), (np.float64(1.9914069956001113), 71), (np.float64(1.0959708228743663), 73), (np.float64(1.870458040229493), 80), (np.float64(1.3823896584008788), 81), (np.float64(2.73771443075436), 86), (np.float64(2.2200473330392096), 88), (np.float64(2.9015022071102172), 92), (np.float64(2.5984494705533665), 94), (np.float64(2.2056554707913847), 97)]\n",
      "Radio 5: [(np.float64(4.678499415212165), 0), (np.float64(2.521005464913762), 1), (np.float64(4.864801596794972), 2), (np.float64(2.3134053520842524), 4), (np.float64(4.396213105250055), 6), (np.float64(4.48851930901391), 7), (np.float64(1.9731695403252687), 8), (np.float64(2.1958313320943117), 9), (np.float64(3.7745959593755876), 10), (np.float64(2.4710929577902934), 11), (np.float64(2.8853972905497964), 12), (np.float64(3.006633605213899), 13), (np.float64(4.628689670520346), 14), (np.float64(3.4658368144292293), 15), (np.float64(4.472622352096463), 18), (np.float64(1.9370991730785896), 19), (np.float64(3.7799253711591363), 20), (np.float64(2.908618059981832), 22), (np.float64(1.8935533882465698), 23), (np.float64(3.1858839338312253), 24), (np.float64(4.330846060847128), 27), (np.float64(4.871629215190026), 29), (np.float64(2.5431085525713284), 30), (np.float64(3.585916331103787), 31), (np.float64(2.231874650668454), 32), (np.float64(4.693169796489706), 33), (np.float64(4.060658258987186), 35), (np.float64(3.0860045968508265), 37), (np.float64(4.093757802149656), 39), (np.float64(3.834664600219649), 40), (np.float64(4.68056397887896), 41), (np.float64(2.574656357683593), 42), (np.float64(2.6765846718654567), 43), (np.float64(3.882083440592649), 44), (np.float64(4.360984716793097), 45), (np.float64(2.678875445482463), 46), (np.float64(2.7103820254163624), 47), (np.float64(0.7594132967118037), 48), (np.float64(4.880229588117251), 50), (np.float64(1.8584175663497666), 51), (np.float64(4.78502682368332), 52), (np.float64(2.70809166931783), 53), (np.float64(3.987172779824136), 55), (np.float64(3.946891591033379), 57), (np.float64(4.36411569822484), 58), (np.float64(3.9452551158879956), 59), (np.float64(4.303280570528555), 61), (np.float64(2.8166034555832353), 62), (np.float64(4.808949417920714), 63), (np.float64(4.93164988721245), 64), (np.float64(2.899051765703099), 65), (np.float64(4.133656631974032), 66), (np.float64(4.768922405176385), 67), (np.float64(2.0388669681071434), 68), (np.float64(4.910959365783399), 69), (np.float64(1.9914069956001113), 71), (np.float64(1.0959708228743663), 73), (np.float64(4.842613369216035), 75), (np.float64(3.5526172905742515), 76), (np.float64(3.131700333771857), 78), (np.float64(3.4773087308444417), 79), (np.float64(1.870458040229493), 80), (np.float64(1.3823896584008788), 81), (np.float64(3.610961498458015), 83), (np.float64(4.681335255410235), 84), (np.float64(2.73771443075436), 86), (np.float64(3.5652820594481347), 87), (np.float64(2.2200473330392096), 88), (np.float64(4.179265767459985), 90), (np.float64(2.9015022071102172), 92), (np.float64(3.2198921395248576), 93), (np.float64(2.5984494705533665), 94), (np.float64(4.219604465239884), 96), (np.float64(2.2056554707913847), 97), (np.float64(4.568944378883531), 98), (np.float64(4.7766747954979865), 99)]\n"
     ]
    }
   ],
   "source": [
    "print(\"\\nBúsqueda por Rango:\")\n",
    "for radius in radii:\n",
    "    print(f\"Radio {radius}: {range_search(data, query_point, radius)}\")"
   ]
  },
  {
   "cell_type": "code",
   "execution_count": 12,
   "metadata": {},
   "outputs": [
    {
     "name": "stdout",
     "output_type": "stream",
     "text": [
      "\n",
      "Análisis de Distribución de Distancias:\n"
     ]
    },
    {
     "data": {
      "image/png": "[encoded data removed]",
      "text/plain": [
       "<Figure size 640x480 with 1 Axes>"
      ]
     },
     "metadata": {},
     "output_type": "display_data"
    },
    {
     "name": "stdout",
     "output_type": "stream",
     "text": [
      "Radio: 2, Puntos encontrados: 9\n",
      "Radio: 3, Puntos encontrados: 30\n",
      "Radio: 5, Puntos encontrados: 76\n"
     ]
    }
   ],
   "source": [
    "print(\"\\nAnálisis de Distribución de Distancias:\")\n",
    "analyze_distance_distribution(data, query_point, radii)\n"
   ]
  }
 ],
 "metadata": {
  "kernelspec": {
   "display_name": "Python 3",
   "language": "python",
   "name": "python3"
  },
  "language_info": {
   "codemirror_mode": {
    "name": "ipython",
    "version": 3
   },
   "file_extension": ".py",
   "mimetype": "text/x-python",
   "name": "python",
   "nbconvert_exporter": "python",
   "pygments_lexer": "ipython3",
   "version": "3.10.12"
  }
 },
 "nbformat": 4,
 "nbformat_minor": 2
}
